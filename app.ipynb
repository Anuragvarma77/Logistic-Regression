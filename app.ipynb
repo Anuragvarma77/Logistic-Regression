{
 "cells": [
  {
   "cell_type": "code",
   "execution_count": 1,
   "id": "5518c8b2-9a0c-4106-b02e-21bf62b00e7d",
   "metadata": {},
   "outputs": [
    {
     "name": "stderr",
     "output_type": "stream",
     "text": [
      "2025-06-27 12:43:34.852 \n",
      "  \u001b[33m\u001b[1mWarning:\u001b[0m to view this Streamlit app on a browser, run it with the following\n",
      "  command:\n",
      "\n",
      "    streamlit run C:\\Users\\anura\\anaconda5-3-25\\Lib\\site-packages\\ipykernel_launcher.py [ARGUMENTS]\n",
      "2025-06-27 12:43:34.854 Session state does not function when running a script without `streamlit run`\n"
     ]
    }
   ],
   "source": [
    "import streamlit as st\n",
    "import pickle\n",
    "import numpy as np\n",
    "\n",
    "# Load model\n",
    "with open(\"model.pkl\", \"rb\") as file:\n",
    "    model = pickle.load(file)\n",
    "\n",
    "st.title(\"Logistic Regression Predictor\")\n",
    "\n",
    "st.write(\"Enter the values for prediction:\")\n",
    "\n",
    "# Example input fields (replace with your real features)\n",
    "feature1 = st.number_input(\"Survived\", step=0.1)\n",
    "feature2 = st.number_input(\"Sex\", step=0.1)\n",
    "\n",
    "input_data = np.array([[feature1, feature2]])\n",
    "\n",
    "if st.button(\"Predict\"):\n",
    "    prediction = model.predict(input_data)\n",
    "    st.success(f\"Predicted Class: {prediction[0]}\")"
   ]
  },
  {
   "cell_type": "code",
   "execution_count": null,
   "id": "a005e677-4cda-4dd6-b4d1-8db1ce40680a",
   "metadata": {},
   "outputs": [],
   "source": []
  }
 ],
 "metadata": {
  "kernelspec": {
   "display_name": "Python 3 (ipykernel)",
   "language": "python",
   "name": "python3"
  },
  "language_info": {
   "codemirror_mode": {
    "name": "ipython",
    "version": 3
   },
   "file_extension": ".py",
   "mimetype": "text/x-python",
   "name": "python",
   "nbconvert_exporter": "python",
   "pygments_lexer": "ipython3",
   "version": "3.12.7"
  }
 },
 "nbformat": 4,
 "nbformat_minor": 5
}
